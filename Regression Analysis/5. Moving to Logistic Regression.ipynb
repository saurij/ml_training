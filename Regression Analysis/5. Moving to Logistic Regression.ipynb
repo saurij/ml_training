{
 "cells": [
  {
   "cell_type": "markdown",
   "metadata": {
    "collapsed": true
   },
   "source": [
    "Logistic Regression - Overview\n",
    "===========\n",
    "***\n",
    "\n",
    "### What are the odds that an event will happen? Answering yes/no questions.\n",
    "\n",
    "Often we have to resolve questions with binary or yes/no outcomes.\n",
    "\n",
    "For example:\n",
    "\n",
    "* _Does a patient have cancer?_\n",
    "\n",
    "* _Will a team win the next game?_\n",
    "\n",
    "* _Will the customer buy my product?_\n",
    "\n",
    "* _Will I get the loan?_\n"
   ]
  },
  {
   "cell_type": "markdown",
   "metadata": {
    "collapsed": true
   },
   "source": [
    "## A familiar example\n",
    "\n",
    "We are going to start by plotting something we understand in the real world, although we may never actually have plotted it before.\n",
    "Let's say on the x-axis is tumor size and say the outcome on the y axis is cancer test indicated by a value of 0 or 1 respectively.  \n",
    "\n",
    "Then a plot for these scores might look like this:\n"
   ]
  },
  {
   "cell_type": "markdown",
   "metadata": {},
   "source": [
    "<img src=\"Images/class_prob.jpg\" width=\"70%\">"
   ]
  },
  {
   "cell_type": "markdown",
   "metadata": {},
   "source": [
    "So, how do we predict whether patient haa cancer or not if we are given the Tumor Size score?  \n",
    "Clearly linear regression is not a good model.  \n",
    "Take a look at this plot of a \"best fit\" line over the points:\n",
    "\n"
   ]
  },
  {
   "cell_type": "markdown",
   "metadata": {},
   "source": [
    "<img src=\"Images/class_prob2.jpg\" width=\"70%\">"
   ]
  },
  {
   "cell_type": "markdown",
   "metadata": {},
   "source": [
    "### How do we model this sort of data best?\n",
    "\n",
    "We need a better way to model our data.  \n",
    "We are going to do this in two steps.\n",
    "\n",
    "First, we will just pull a function out of the data science bag of tricks and show that it works reasonably well.\n",
    "\n",
    "And, second, we are going to understand how we came up with that function and how it is related to binary outcomes and odds.\n",
    "But before that let's understand this a bit better.\n",
    "\n",
    "This function will need to have a value of 0 for mo cancer and 1 for the cancer.\n",
    "To make sense it will need to be 0 for some score and all scores below it and be 1 for some other score and all scores above it. And it will need to smoothly increase from 0 to 1 in the intermediate range."
   ]
  },
  {
   "cell_type": "code",
   "execution_count": null,
   "metadata": {
    "collapsed": false
   },
   "outputs": [],
   "source": [
    "import matplotlib.pyplot as plt\n",
    "%matplotlib inline\n",
    "import numpy as np\n",
    "\n",
    "\n",
    "def sigmoid(z):\n",
    "    return 1.0 / (1.0 + np.exp(-z))\n",
    "\n",
    "z = np.arange(-7, 7, 0.1)\n",
    "phi_z = sigmoid(z)\n",
    "\n",
    "plt.plot(z, phi_z)\n",
    "plt.axvline(0.0, color='k')\n",
    "plt.ylim(-0.1, 1.1)\n",
    "plt.xlabel('z')\n",
    "plt.ylabel('$\\phi (z)$')\n",
    "\n",
    "# y axis ticks and gridline\n",
    "plt.yticks([0.0, 0.5, 1.0])\n",
    "ax = plt.gca()\n",
    "ax.yaxis.grid(True)\n",
    "\n",
    "plt.tight_layout()\n",
    "# plt.savefig('./figures/sigmoid.png', dpi=300)\n",
    "plt.show()"
   ]
  },
  {
   "cell_type": "markdown",
   "metadata": {
    "collapsed": true
   },
   "source": [
    "## Linear Regression on Loan Data\n"
   ]
  },
  {
   "cell_type": "code",
   "execution_count": 3,
   "metadata": {
    "collapsed": true
   },
   "outputs": [],
   "source": [
    "import numpy as np\n",
    "import pandas as pd"
   ]
  },
  {
   "cell_type": "code",
   "execution_count": 4,
   "metadata": {
    "collapsed": false
   },
   "outputs": [
    {
     "data": {
      "text/html": [
       "<div>\n",
       "<table border=\"1\" class=\"dataframe\">\n",
       "  <thead>\n",
       "    <tr style=\"text-align: right;\">\n",
       "      <th></th>\n",
       "      <th>Interest.Rate</th>\n",
       "      <th>FICO.Score</th>\n",
       "      <th>Loan.Length</th>\n",
       "      <th>Monthly.Income</th>\n",
       "      <th>Loan.Amount</th>\n",
       "    </tr>\n",
       "  </thead>\n",
       "  <tbody>\n",
       "    <tr>\n",
       "      <th>6</th>\n",
       "      <td>15.31</td>\n",
       "      <td>670</td>\n",
       "      <td>36</td>\n",
       "      <td>4891.67</td>\n",
       "      <td>6000</td>\n",
       "    </tr>\n",
       "    <tr>\n",
       "      <th>11</th>\n",
       "      <td>19.72</td>\n",
       "      <td>670</td>\n",
       "      <td>36</td>\n",
       "      <td>3575.00</td>\n",
       "      <td>2000</td>\n",
       "    </tr>\n",
       "    <tr>\n",
       "      <th>12</th>\n",
       "      <td>14.27</td>\n",
       "      <td>665</td>\n",
       "      <td>36</td>\n",
       "      <td>4250.00</td>\n",
       "      <td>10625</td>\n",
       "    </tr>\n",
       "    <tr>\n",
       "      <th>13</th>\n",
       "      <td>21.67</td>\n",
       "      <td>670</td>\n",
       "      <td>60</td>\n",
       "      <td>14166.67</td>\n",
       "      <td>28000</td>\n",
       "    </tr>\n",
       "    <tr>\n",
       "      <th>21</th>\n",
       "      <td>21.98</td>\n",
       "      <td>665</td>\n",
       "      <td>36</td>\n",
       "      <td>6666.67</td>\n",
       "      <td>22000</td>\n",
       "    </tr>\n",
       "  </tbody>\n",
       "</table>\n",
       "</div>"
      ],
      "text/plain": [
       "    Interest.Rate  FICO.Score  Loan.Length  Monthly.Income  Loan.Amount\n",
       "6           15.31         670           36         4891.67         6000\n",
       "11          19.72         670           36         3575.00         2000\n",
       "12          14.27         665           36         4250.00        10625\n",
       "13          21.67         670           60        14166.67        28000\n",
       "21          21.98         665           36         6666.67        22000"
      ]
     },
     "execution_count": 4,
     "metadata": {},
     "output_type": "execute_result"
    }
   ],
   "source": [
    "# import the cleaned up dataset\n",
    "df = pd.read_csv('./Datasets/loanf.csv')\n",
    "df.head()"
   ]
  },
  {
   "cell_type": "markdown",
   "metadata": {},
   "source": [
    "Can we predict interest rates from given loan details ?"
   ]
  },
  {
   "cell_type": "markdown",
   "metadata": {},
   "source": [
    "### Asumptions\n",
    "\n",
    "FICO Score and Loan Amount as predictors of Interest Rate for the Lending Club sample of 2,500 loans._\n",
    "\n",
    "We use Multivariate Linear Regression to model Interest Rate variance with FICO Score and Loan Amount using:\n",
    "\n",
    "$$InterestRate = a_0 + a_1 * FICOScore + a_2 * LoanAmount$$\n",
    "\n",
    "We're going to use modeling software to generate the model coefficients $a_0$, $a_1$ and $a_2$ and then some error estimates that we'll only touch upon lightly at this point. \n"
   ]
  },
  {
   "cell_type": "code",
   "execution_count": 5,
   "metadata": {
    "collapsed": false
   },
   "outputs": [
    {
     "data": {
      "text/plain": [
       "(2500, 1)"
      ]
     },
     "execution_count": 5,
     "metadata": {},
     "output_type": "execute_result"
    }
   ],
   "source": [
    "X = df[['FICO.Score', 'Loan.Amount']].values\n",
    "y = df['Interest.Rate'].values\n",
    "\n",
    "y=y.reshape((2500,1))\n",
    "X.shape\n",
    "y.shape"
   ]
  },
  {
   "cell_type": "code",
   "execution_count": 6,
   "metadata": {
    "collapsed": false
   },
   "outputs": [
    {
     "data": {
      "text/plain": [
       "LinearRegression(copy_X=True, fit_intercept=True, n_jobs=1, normalize=False)"
      ]
     },
     "execution_count": 6,
     "metadata": {},
     "output_type": "execute_result"
    }
   ],
   "source": [
    "from sklearn.linear_model import LinearRegression\n",
    "model =LinearRegression() \n",
    "model.fit(X,y)"
   ]
  },
  {
   "cell_type": "code",
   "execution_count": 7,
   "metadata": {
    "collapsed": false
   },
   "outputs": [
    {
     "data": {
      "text/plain": [
       "LinearRegression(copy_X=True, fit_intercept=True, n_jobs=1, normalize=False)"
      ]
     },
     "execution_count": 7,
     "metadata": {},
     "output_type": "execute_result"
    }
   ],
   "source": [
    "from sklearn.linear_model import LinearRegression\n",
    "model = LinearRegression()\n",
    "model.fit(X, y)"
   ]
  },
  {
   "cell_type": "code",
   "execution_count": 8,
   "metadata": {
    "collapsed": true
   },
   "outputs": [],
   "source": [
    "import warnings\n",
    "warnings.filterwarnings('ignore')"
   ]
  },
  {
   "cell_type": "code",
   "execution_count": 9,
   "metadata": {
    "collapsed": true
   },
   "outputs": [],
   "source": [
    "def InterestRatePredictor(FICO,Loan):\n",
    "    print ('Interest Rate for load amount %d with FICO score %d is: %.2f Percent'%(Loan,FICO,model.predict([FICO,Loan])))"
   ]
  },
  {
   "cell_type": "code",
   "execution_count": 10,
   "metadata": {
    "collapsed": false
   },
   "outputs": [
    {
     "name": "stdout",
     "output_type": "stream",
     "text": [
      "Interest Rate for load amount 20768 with FICO score 794 is: 7.04 Percent\n"
     ]
    }
   ],
   "source": [
    "from IPython.html import widgets\n",
    "from IPython.html.widgets import interact\n",
    "from IPython.display import display\n",
    "i = interact(InterestRatePredictor, FICO=(665,800), Loan=(6000,22000))"
   ]
  },
  {
   "cell_type": "markdown",
   "metadata": {},
   "source": [
    "# Moving to Logistic Regression"
   ]
  },
  {
   "cell_type": "markdown",
   "metadata": {},
   "source": [
    "##### _Can we get a loan, from the Lending Club, of 10,000 dollars at 12 per cent or less, with a FICO Score of 720?_"
   ]
  },
  {
   "cell_type": "markdown",
   "metadata": {},
   "source": [
    "### Methods\n",
    "\n",
    "How do we use Logistic Regression here?  Let's recast the problem as follows:-\n",
    "\n",
    "##### _What is the probability of getting a Loan, from the Lending Club, of 10,000 dollars at 12 per cent or less with a FICO Score of 720?_  \n",
    "\n",
    "Then let us decide that if we get a probability of less than 0.67 we say it means we won't get the loan and if it is greater than 0.67 we will. I.e. we are not confident until we have a 2/3 chance of getting it.\n",
    "\n",
    "In reality we can set the threshold higher, say 0.8, if we want to be \"more certain\" that it will happen, but for this exercise we'll just say 0.67.\n"
   ]
  },
  {
   "cell_type": "markdown",
   "metadata": {},
   "source": [
    "From initial discussion we say we want to start with a model of the form\n",
    "\n",
    "$ Interest Rate = a_0 + a_1*FICOScore + a_2*LoanAmount $\n",
    "\n",
    "And the derive a second equation of the form:\n",
    "\n",
    "Z = Prob (InterestRate less than 12 percent).\n",
    "\n",
    "We apply this to the existing dataset and create a Logistic Regression Model using modeling software."
   ]
  },
  {
   "cell_type": "markdown",
   "metadata": {},
   "source": [
    "### Analysis\n",
    "\n",
    "As with the Linear Regression Model, we use the cleaned up Lending Club data set as input."
   ]
  },
  {
   "cell_type": "code",
   "execution_count": 11,
   "metadata": {
    "collapsed": false
   },
   "outputs": [
    {
     "data": {
      "text/html": [
       "<div>\n",
       "<table border=\"1\" class=\"dataframe\">\n",
       "  <thead>\n",
       "    <tr style=\"text-align: right;\">\n",
       "      <th></th>\n",
       "      <th>Interest.Rate</th>\n",
       "      <th>FICO.Score</th>\n",
       "      <th>Loan.Length</th>\n",
       "      <th>Monthly.Income</th>\n",
       "      <th>Loan.Amount</th>\n",
       "    </tr>\n",
       "  </thead>\n",
       "  <tbody>\n",
       "    <tr>\n",
       "      <th>6</th>\n",
       "      <td>15.31</td>\n",
       "      <td>670</td>\n",
       "      <td>36</td>\n",
       "      <td>4891.67</td>\n",
       "      <td>6000</td>\n",
       "    </tr>\n",
       "    <tr>\n",
       "      <th>11</th>\n",
       "      <td>19.72</td>\n",
       "      <td>670</td>\n",
       "      <td>36</td>\n",
       "      <td>3575.00</td>\n",
       "      <td>2000</td>\n",
       "    </tr>\n",
       "    <tr>\n",
       "      <th>12</th>\n",
       "      <td>14.27</td>\n",
       "      <td>665</td>\n",
       "      <td>36</td>\n",
       "      <td>4250.00</td>\n",
       "      <td>10625</td>\n",
       "    </tr>\n",
       "    <tr>\n",
       "      <th>13</th>\n",
       "      <td>21.67</td>\n",
       "      <td>670</td>\n",
       "      <td>60</td>\n",
       "      <td>14166.67</td>\n",
       "      <td>28000</td>\n",
       "    </tr>\n",
       "    <tr>\n",
       "      <th>21</th>\n",
       "      <td>21.98</td>\n",
       "      <td>665</td>\n",
       "      <td>36</td>\n",
       "      <td>6666.67</td>\n",
       "      <td>22000</td>\n",
       "    </tr>\n",
       "  </tbody>\n",
       "</table>\n",
       "</div>"
      ],
      "text/plain": [
       "    Interest.Rate  FICO.Score  Loan.Length  Monthly.Income  Loan.Amount\n",
       "6           15.31         670           36         4891.67         6000\n",
       "11          19.72         670           36         3575.00         2000\n",
       "12          14.27         665           36         4250.00        10625\n",
       "13          21.67         670           60        14166.67        28000\n",
       "21          21.98         665           36         6666.67        22000"
      ]
     },
     "execution_count": 11,
     "metadata": {},
     "output_type": "execute_result"
    }
   ],
   "source": [
    "import pandas as pd\n",
    "dfr = pd.read_csv('./Datasets/loanf.csv')\n",
    "dfr.head()"
   ]
  },
  {
   "cell_type": "code",
   "execution_count": 12,
   "metadata": {
    "collapsed": false
   },
   "outputs": [
    {
     "data": {
      "text/html": [
       "<div>\n",
       "<table border=\"1\" class=\"dataframe\">\n",
       "  <thead>\n",
       "    <tr style=\"text-align: right;\">\n",
       "      <th></th>\n",
       "      <th>Interest.Rate</th>\n",
       "      <th>FICO.Score</th>\n",
       "      <th>Loan.Length</th>\n",
       "      <th>Monthly.Income</th>\n",
       "      <th>Loan.Amount</th>\n",
       "      <th>TF</th>\n",
       "    </tr>\n",
       "  </thead>\n",
       "  <tbody>\n",
       "    <tr>\n",
       "      <th>6</th>\n",
       "      <td>15.31</td>\n",
       "      <td>670</td>\n",
       "      <td>36</td>\n",
       "      <td>4891.67</td>\n",
       "      <td>6000</td>\n",
       "      <td>False</td>\n",
       "    </tr>\n",
       "    <tr>\n",
       "      <th>11</th>\n",
       "      <td>19.72</td>\n",
       "      <td>670</td>\n",
       "      <td>36</td>\n",
       "      <td>3575.00</td>\n",
       "      <td>2000</td>\n",
       "      <td>False</td>\n",
       "    </tr>\n",
       "    <tr>\n",
       "      <th>12</th>\n",
       "      <td>14.27</td>\n",
       "      <td>665</td>\n",
       "      <td>36</td>\n",
       "      <td>4250.00</td>\n",
       "      <td>10625</td>\n",
       "      <td>False</td>\n",
       "    </tr>\n",
       "    <tr>\n",
       "      <th>13</th>\n",
       "      <td>21.67</td>\n",
       "      <td>670</td>\n",
       "      <td>60</td>\n",
       "      <td>14166.67</td>\n",
       "      <td>28000</td>\n",
       "      <td>False</td>\n",
       "    </tr>\n",
       "    <tr>\n",
       "      <th>21</th>\n",
       "      <td>21.98</td>\n",
       "      <td>665</td>\n",
       "      <td>36</td>\n",
       "      <td>6666.67</td>\n",
       "      <td>22000</td>\n",
       "      <td>False</td>\n",
       "    </tr>\n",
       "  </tbody>\n",
       "</table>\n",
       "</div>"
      ],
      "text/plain": [
       "    Interest.Rate  FICO.Score  Loan.Length  Monthly.Income  Loan.Amount     TF\n",
       "6           15.31         670           36         4891.67         6000  False\n",
       "11          19.72         670           36         3575.00         2000  False\n",
       "12          14.27         665           36         4250.00        10625  False\n",
       "13          21.67         670           60        14166.67        28000  False\n",
       "21          21.98         665           36         6666.67        22000  False"
      ]
     },
     "execution_count": 12,
     "metadata": {},
     "output_type": "execute_result"
    }
   ],
   "source": [
    "# we add a column which indicates (True/False) whether the interest rate is <= 12 \n",
    "dfr['TF']=dfr['Interest.Rate']<=12\n",
    "# inspect again\n",
    "dfr.head()\n",
    "# we see that the TF values are False as Interest.Rate is higher than 12 in all these cases"
   ]
  },
  {
   "cell_type": "code",
   "execution_count": 13,
   "metadata": {
    "collapsed": false
   },
   "outputs": [
    {
     "data": {
      "text/html": [
       "<div>\n",
       "<table border=\"1\" class=\"dataframe\">\n",
       "  <thead>\n",
       "    <tr style=\"text-align: right;\">\n",
       "      <th></th>\n",
       "      <th>Interest.Rate</th>\n",
       "      <th>FICO.Score</th>\n",
       "      <th>Loan.Length</th>\n",
       "      <th>Monthly.Income</th>\n",
       "      <th>Loan.Amount</th>\n",
       "      <th>TF</th>\n",
       "    </tr>\n",
       "  </thead>\n",
       "  <tbody>\n",
       "    <tr>\n",
       "      <th>650</th>\n",
       "      <td>10.0</td>\n",
       "      <td>700</td>\n",
       "      <td>36</td>\n",
       "      <td>3250.00</td>\n",
       "      <td>2800</td>\n",
       "      <td>True</td>\n",
       "    </tr>\n",
       "    <tr>\n",
       "      <th>204</th>\n",
       "      <td>10.0</td>\n",
       "      <td>715</td>\n",
       "      <td>36</td>\n",
       "      <td>15416.67</td>\n",
       "      <td>6000</td>\n",
       "      <td>True</td>\n",
       "    </tr>\n",
       "    <tr>\n",
       "      <th>440</th>\n",
       "      <td>10.0</td>\n",
       "      <td>730</td>\n",
       "      <td>36</td>\n",
       "      <td>6250.00</td>\n",
       "      <td>21000</td>\n",
       "      <td>True</td>\n",
       "    </tr>\n",
       "    <tr>\n",
       "      <th>521</th>\n",
       "      <td>10.0</td>\n",
       "      <td>715</td>\n",
       "      <td>36</td>\n",
       "      <td>5000.00</td>\n",
       "      <td>12000</td>\n",
       "      <td>True</td>\n",
       "    </tr>\n",
       "    <tr>\n",
       "      <th>1017</th>\n",
       "      <td>10.0</td>\n",
       "      <td>735</td>\n",
       "      <td>60</td>\n",
       "      <td>4000.00</td>\n",
       "      <td>5000</td>\n",
       "      <td>True</td>\n",
       "    </tr>\n",
       "  </tbody>\n",
       "</table>\n",
       "</div>"
      ],
      "text/plain": [
       "      Interest.Rate  FICO.Score  Loan.Length  Monthly.Income  Loan.Amount  \\\n",
       "650            10.0         700           36         3250.00         2800   \n",
       "204            10.0         715           36        15416.67         6000   \n",
       "440            10.0         730           36         6250.00        21000   \n",
       "521            10.0         715           36         5000.00        12000   \n",
       "1017           10.0         735           60         4000.00         5000   \n",
       "\n",
       "        TF  \n",
       "650   True  \n",
       "204   True  \n",
       "440   True  \n",
       "521   True  \n",
       "1017  True  "
      ]
     },
     "execution_count": 13,
     "metadata": {},
     "output_type": "execute_result"
    }
   ],
   "source": [
    "# now we check the rows that have interest rate == 10 (just some number < 12)\n",
    "# this is just to confirm that the TF value is True where we expect it to be\n",
    "d = dfr[dfr['Interest.Rate']==10]\n",
    "d.head()\n",
    "# all is well"
   ]
  },
  {
   "cell_type": "code",
   "execution_count": 14,
   "metadata": {
    "collapsed": true
   },
   "outputs": [],
   "source": [
    "X = dfr[['FICO.Score', 'Loan.Amount']].values\n",
    "y = dfr['TF'].values"
   ]
  },
  {
   "cell_type": "code",
   "execution_count": 15,
   "metadata": {
    "collapsed": true
   },
   "outputs": [],
   "source": [
    "from sklearn.linear_model import LogisticRegression\n"
   ]
  },
  {
   "cell_type": "code",
   "execution_count": 16,
   "metadata": {
    "collapsed": false
   },
   "outputs": [
    {
     "name": "stdout",
     "output_type": "stream",
     "text": [
      "Logistic Regression model\n"
     ]
    }
   ],
   "source": [
    "model = LogisticRegression()\n",
    "model.fit(X,y)\n",
    "print('Logistic Regression model')"
   ]
  },
  {
   "cell_type": "code",
   "execution_count": 19,
   "metadata": {
    "collapsed": true
   },
   "outputs": [],
   "source": [
    "def Loan_Approvar(FICO,Loan):\n",
    "    a=model.predict_proba([FICO,Loan])\n",
    "    if (a[0,1]>0.5):\n",
    "        \n",
    "        print('Loan Approved')\n",
    "    else:\n",
    "            \n",
    "        print('Loan Rejected')"
   ]
  },
  {
   "cell_type": "code",
   "execution_count": 20,
   "metadata": {
    "collapsed": false
   },
   "outputs": [
    {
     "name": "stdout",
     "output_type": "stream",
     "text": [
      "Loan Rejected\n"
     ]
    }
   ],
   "source": [
    "i = interact(Loan_Approvar, FICO=(665,800), Loan=(6000,22000))"
   ]
  },
  {
   "cell_type": "code",
   "execution_count": 21,
   "metadata": {
    "collapsed": false
   },
   "outputs": [
    {
     "name": "stdout",
     "output_type": "stream",
     "text": [
      "[[ 0.82738871  0.17261129]]\n",
      "[False]\n"
     ]
    }
   ],
   "source": [
    "Index=3\n",
    "\n",
    "a=model.predict_proba(X[Index])\n",
    "print(a)\n",
    "\n",
    "b=model.predict(X[Index])\n",
    "print(b)"
   ]
  },
  {
   "cell_type": "code",
   "execution_count": null,
   "metadata": {
    "collapsed": true
   },
   "outputs": [],
   "source": []
  }
 ],
 "metadata": {
  "kernelspec": {
   "display_name": "Python [Root]",
   "language": "python",
   "name": "Python [Root]"
  },
  "language_info": {
   "codemirror_mode": {
    "name": "ipython",
    "version": 3
   },
   "file_extension": ".py",
   "mimetype": "text/x-python",
   "name": "python",
   "nbconvert_exporter": "python",
   "pygments_lexer": "ipython3",
   "version": "3.5.2"
  }
 },
 "nbformat": 4,
 "nbformat_minor": 0
}
