{
 "cells": [
  {
   "cell_type": "markdown",
   "metadata": {},
   "source": [
    "# United Nations  Data on Countries of the World"
   ]
  },
  {
   "cell_type": "code",
   "execution_count": 1,
   "metadata": {
    "collapsed": false
   },
   "outputs": [
    {
     "name": "stdout",
     "output_type": "stream",
     "text": [
      "Populating the interactive namespace from numpy and matplotlib\n"
     ]
    },
    {
     "data": {
      "text/html": [
       "<div>\n",
       "<table border=\"1\" class=\"dataframe\">\n",
       "  <thead>\n",
       "    <tr style=\"text-align: right;\">\n",
       "      <th></th>\n",
       "      <th>country</th>\n",
       "      <th>region</th>\n",
       "      <th>tfr</th>\n",
       "      <th>contraception</th>\n",
       "      <th>educationMale</th>\n",
       "      <th>educationFemale</th>\n",
       "      <th>lifeMale</th>\n",
       "      <th>lifeFemale</th>\n",
       "      <th>infantMortality</th>\n",
       "      <th>GDPperCapita</th>\n",
       "      <th>economicActivityMale</th>\n",
       "      <th>economicActivityFemale</th>\n",
       "      <th>illiteracyMale</th>\n",
       "      <th>illiteracyFemale</th>\n",
       "    </tr>\n",
       "  </thead>\n",
       "  <tbody>\n",
       "    <tr>\n",
       "      <th>0</th>\n",
       "      <td>Afghanistan</td>\n",
       "      <td>Asia</td>\n",
       "      <td>6.90</td>\n",
       "      <td>NaN</td>\n",
       "      <td>NaN</td>\n",
       "      <td>NaN</td>\n",
       "      <td>45.0</td>\n",
       "      <td>46.0</td>\n",
       "      <td>154.0</td>\n",
       "      <td>2848.0</td>\n",
       "      <td>87.5</td>\n",
       "      <td>7.2</td>\n",
       "      <td>52.800</td>\n",
       "      <td>85.00</td>\n",
       "    </tr>\n",
       "    <tr>\n",
       "      <th>1</th>\n",
       "      <td>Albania</td>\n",
       "      <td>Europe</td>\n",
       "      <td>2.60</td>\n",
       "      <td>NaN</td>\n",
       "      <td>NaN</td>\n",
       "      <td>NaN</td>\n",
       "      <td>68.0</td>\n",
       "      <td>74.0</td>\n",
       "      <td>32.0</td>\n",
       "      <td>863.0</td>\n",
       "      <td>NaN</td>\n",
       "      <td>NaN</td>\n",
       "      <td>NaN</td>\n",
       "      <td>NaN</td>\n",
       "    </tr>\n",
       "    <tr>\n",
       "      <th>2</th>\n",
       "      <td>Algeria</td>\n",
       "      <td>Africa</td>\n",
       "      <td>3.81</td>\n",
       "      <td>52.0</td>\n",
       "      <td>11.1</td>\n",
       "      <td>9.9</td>\n",
       "      <td>67.5</td>\n",
       "      <td>70.3</td>\n",
       "      <td>44.0</td>\n",
       "      <td>1531.0</td>\n",
       "      <td>76.4</td>\n",
       "      <td>7.8</td>\n",
       "      <td>26.100</td>\n",
       "      <td>51.00</td>\n",
       "    </tr>\n",
       "    <tr>\n",
       "      <th>3</th>\n",
       "      <td>American.Samoa</td>\n",
       "      <td>Asia</td>\n",
       "      <td>NaN</td>\n",
       "      <td>NaN</td>\n",
       "      <td>NaN</td>\n",
       "      <td>NaN</td>\n",
       "      <td>68.0</td>\n",
       "      <td>73.0</td>\n",
       "      <td>11.0</td>\n",
       "      <td>NaN</td>\n",
       "      <td>58.8</td>\n",
       "      <td>42.4</td>\n",
       "      <td>0.264</td>\n",
       "      <td>0.36</td>\n",
       "    </tr>\n",
       "    <tr>\n",
       "      <th>4</th>\n",
       "      <td>Andorra</td>\n",
       "      <td>Europe</td>\n",
       "      <td>NaN</td>\n",
       "      <td>NaN</td>\n",
       "      <td>NaN</td>\n",
       "      <td>NaN</td>\n",
       "      <td>NaN</td>\n",
       "      <td>NaN</td>\n",
       "      <td>NaN</td>\n",
       "      <td>NaN</td>\n",
       "      <td>NaN</td>\n",
       "      <td>NaN</td>\n",
       "      <td>NaN</td>\n",
       "      <td>NaN</td>\n",
       "    </tr>\n",
       "  </tbody>\n",
       "</table>\n",
       "</div>"
      ],
      "text/plain": [
       "          country  region   tfr  contraception  educationMale  \\\n",
       "0     Afghanistan    Asia  6.90            NaN            NaN   \n",
       "1         Albania  Europe  2.60            NaN            NaN   \n",
       "2         Algeria  Africa  3.81           52.0           11.1   \n",
       "3  American.Samoa    Asia   NaN            NaN            NaN   \n",
       "4         Andorra  Europe   NaN            NaN            NaN   \n",
       "\n",
       "   educationFemale  lifeMale  lifeFemale  infantMortality  GDPperCapita  \\\n",
       "0              NaN      45.0        46.0            154.0        2848.0   \n",
       "1              NaN      68.0        74.0             32.0         863.0   \n",
       "2              9.9      67.5        70.3             44.0        1531.0   \n",
       "3              NaN      68.0        73.0             11.0           NaN   \n",
       "4              NaN       NaN         NaN              NaN           NaN   \n",
       "\n",
       "   economicActivityMale  economicActivityFemale  illiteracyMale  \\\n",
       "0                  87.5                     7.2          52.800   \n",
       "1                   NaN                     NaN             NaN   \n",
       "2                  76.4                     7.8          26.100   \n",
       "3                  58.8                    42.4           0.264   \n",
       "4                   NaN                     NaN             NaN   \n",
       "\n",
       "   illiteracyFemale  \n",
       "0             85.00  \n",
       "1               NaN  \n",
       "2             51.00  \n",
       "3              0.36  \n",
       "4               NaN  "
      ]
     },
     "execution_count": 1,
     "metadata": {},
     "output_type": "execute_result"
    }
   ],
   "source": [
    "%pylab inline\n",
    "import pandas as pd\n",
    "df = pd.read_csv('./Datasets/UN.csv')\n",
    "df.head()"
   ]
  },
  {
   "cell_type": "code",
   "execution_count": 2,
   "metadata": {
    "collapsed": false
   },
   "outputs": [
    {
     "name": "stdout",
     "output_type": "stream",
     "text": [
      "<class 'pandas.core.frame.DataFrame'>\n",
      "RangeIndex: 207 entries, 0 to 206\n",
      "Data columns (total 14 columns):\n",
      "country                   207 non-null object\n",
      "region                    207 non-null object\n",
      "tfr                       197 non-null float64\n",
      "contraception             144 non-null float64\n",
      "educationMale             76 non-null float64\n",
      "educationFemale           76 non-null float64\n",
      "lifeMale                  196 non-null float64\n",
      "lifeFemale                196 non-null float64\n",
      "infantMortality           201 non-null float64\n",
      "GDPperCapita              197 non-null float64\n",
      "economicActivityMale      165 non-null float64\n",
      "economicActivityFemale    165 non-null float64\n",
      "illiteracyMale            160 non-null float64\n",
      "illiteracyFemale          160 non-null float64\n",
      "dtypes: float64(12), object(2)\n",
      "memory usage: 22.7+ KB\n"
     ]
    }
   ],
   "source": [
    "df.info()"
   ]
  },
  {
   "cell_type": "markdown",
   "metadata": {},
   "source": [
    "## Data Preprocessing"
   ]
  },
  {
   "cell_type": "code",
   "execution_count": null,
   "metadata": {
    "collapsed": true
   },
   "outputs": [],
   "source": []
  },
  {
   "cell_type": "code",
   "execution_count": null,
   "metadata": {
    "collapsed": true
   },
   "outputs": [],
   "source": []
  },
  {
   "cell_type": "code",
   "execution_count": null,
   "metadata": {
    "collapsed": true
   },
   "outputs": [],
   "source": []
  },
  {
   "cell_type": "markdown",
   "metadata": {},
   "source": [
    "## Read Preprocessed Data \n",
    "\n",
    "*you will loose some marks if you skip the preprocessing steps.  "
   ]
  },
  {
   "cell_type": "code",
   "execution_count": null,
   "metadata": {
    "collapsed": false
   },
   "outputs": [],
   "source": [
    "%pylab inline\n",
    "# We run the following SciPy and NumPy code in [1] \n",
    "# and generate the plots mentioned above using Matplotlib \n",
    "\n",
    "# load the UN dataset transformed to float with 4 numeric columns, \n",
    "# lifeMale,lifeFemale,infantMortality and GDPperCapita\n",
    "\n",
    "fName = ('./Datasets/UN4col.csv')\n",
    "fp = open(fName)\n",
    "X = np.loadtxt(fp)\n",
    "fp.close()"
   ]
  },
  {
   "cell_type": "code",
   "execution_count": null,
   "metadata": {
    "collapsed": true
   },
   "outputs": [],
   "source": [
    "from sklearn.cluster import KMeans\n",
    "km = KMeans(3, init='k-means++') # initialize\n",
    "km.fit(X)\n",
    "c = km.predict(X) # classify into three clusters"
   ]
  },
  {
   "cell_type": "code",
   "execution_count": null,
   "metadata": {
    "collapsed": false
   },
   "outputs": [],
   "source": [
    "c"
   ]
  },
  {
   "cell_type": "code",
   "execution_count": null,
   "metadata": {
    "collapsed": false
   },
   "outputs": [],
   "source": [
    "import numpy as np\n",
    "import matplotlib.pyplot as plt\n",
    "\n",
    "# see the code in helper library kmeans.py\n",
    "# it wraps a number of variables and maps integers to categoriy labels\n",
    "# this wrapper makes it easy to interact with this code and try other variables\n",
    "# as we see below in the next plot\n",
    "import kmeans as mykm\n",
    "(pl0,pl1,pl2) = mykm.plot_clusters(X,c,3,2) # column 3 GDP, vs column 2 infant mortality. Note indexing is 0 based"
   ]
  },
  {
   "cell_type": "code",
   "execution_count": null,
   "metadata": {
    "collapsed": false
   },
   "outputs": [],
   "source": [
    "(pl0,pl1,pl2) = mykm.plot_clusters(X,c,3,0,False)"
   ]
  },
  {
   "cell_type": "code",
   "execution_count": null,
   "metadata": {
    "collapsed": false
   },
   "outputs": [],
   "source": [
    "(pl0,pl1,pl2) = mykm.plot_clusters(X,c,3,1,False)"
   ]
  },
  {
   "cell_type": "code",
   "execution_count": null,
   "metadata": {
    "collapsed": false
   },
   "outputs": [],
   "source": []
  },
  {
   "cell_type": "code",
   "execution_count": null,
   "metadata": {
    "collapsed": true
   },
   "outputs": [],
   "source": []
  }
 ],
 "metadata": {
  "kernelspec": {
   "display_name": "Python [Root]",
   "language": "python",
   "name": "Python [Root]"
  },
  "language_info": {
   "codemirror_mode": {
    "name": "ipython",
    "version": 3
   },
   "file_extension": ".py",
   "mimetype": "text/x-python",
   "name": "python",
   "nbconvert_exporter": "python",
   "pygments_lexer": "ipython3",
   "version": "3.5.2"
  }
 },
 "nbformat": 4,
 "nbformat_minor": 0
}
