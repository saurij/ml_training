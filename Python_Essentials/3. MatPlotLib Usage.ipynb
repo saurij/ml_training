{
 "cells": [
  {
   "cell_type": "markdown",
   "metadata": {},
   "source": [
    "# Matplotlib\n",
    "## Lets learn basic plotting "
   ]
  },
  {
   "cell_type": "code",
   "execution_count": 1,
   "metadata": {
    "collapsed": false
   },
   "outputs": [],
   "source": [
    "import matplotlib.pyplot as plt\n",
    "import numpy as np"
   ]
  },
  {
   "cell_type": "code",
   "execution_count": 2,
   "metadata": {
    "collapsed": false
   },
   "outputs": [],
   "source": [
    "%matplotlib inline"
   ]
  },
  {
   "cell_type": "markdown",
   "metadata": {},
   "source": [
    "# Plotting"
   ]
  },
  {
   "cell_type": "code",
   "execution_count": 3,
   "metadata": {
    "collapsed": false
   },
   "outputs": [],
   "source": [
    "x = [0,1,2]\n",
    "y = [0,1,4]"
   ]
  },
  {
   "cell_type": "code",
   "execution_count": 8,
   "metadata": {
    "collapsed": false
   },
   "outputs": [
    {
     "data": {
      "image/png": "[encoded data removed]",
      "text/plain": [
       "<matplotlib.figure.Figure at 0x58710b8>"
      ]
     },
     "metadata": {},
     "output_type": "display_data"
    }
   ],
   "source": [
    "fig = plt.figure()\n",
    "axes = fig.add_subplot(111)\n",
    "axes.plot(x, y)\n",
    "plt.show()"
   ]
  },
  {
   "cell_type": "markdown",
   "metadata": {},
   "source": [
    "## Using NumPy to increase the the number of data points"
   ]
  },
  {
   "cell_type": "code",
   "execution_count": null,
   "metadata": {
    "collapsed": true
   },
   "outputs": [],
   "source": []
  },
  {
   "cell_type": "code",
   "execution_count": null,
   "metadata": {
    "collapsed": false
   },
   "outputs": [],
   "source": [
    "x_highres = np.linspace(0, 2, 20)\n",
    "y_highres = x_highres ** 2"
   ]
  },
  {
   "cell_type": "code",
   "execution_count": null,
   "metadata": {
    "collapsed": false
   },
   "outputs": [],
   "source": [
    "fig = plt.figure()\n",
    "axes = fig.add_subplot(111)\n",
    "\n",
    "axes.plot(x, y)\n",
    "axes.plot(x_highres, y_highres)\n",
    "\n",
    "plt.show()"
   ]
  },
  {
   "cell_type": "markdown",
   "metadata": {},
   "source": [
    "## Controlling Line Style"
   ]
  },
  {
   "cell_type": "code",
   "execution_count": null,
   "metadata": {
    "collapsed": false
   },
   "outputs": [],
   "source": [
    "fig = plt.figure()\n",
    "axes = fig.add_subplot(111)\n",
    "\n",
    "#axes.plot(x_highres, y_highres, \"r--\")\n",
    "axes.plot(x_highres, y_highres, color=\"red\")\n",
    "\n",
    "plt.show()"
   ]
  },
  {
   "cell_type": "code",
   "execution_count": null,
   "metadata": {
    "collapsed": false
   },
   "outputs": [],
   "source": [
    "fig = plt.figure()\n",
    "axes = fig.add_subplot(111)\n",
    "\n",
    "axes.plot(x_highres, y_highres, color=\"red\", linestyle='dashed',  linewidth=5)\n",
    "\n",
    "plt.show()"
   ]
  },
  {
   "cell_type": "code",
   "execution_count": null,
   "metadata": {
    "collapsed": false
   },
   "outputs": [],
   "source": [
    "fig = plt.figure()\n",
    "axes = fig.add_subplot(111)\n",
    "\n",
    "axes.plot(x_highres, y_highres,color=\"red\", linestyle='dashed',  linewidth=3, marker='o',\n",
    "         markerfacecolor='blue', markersize=5)\n",
    "\n",
    "plt.show()"
   ]
  },
  {
   "cell_type": "markdown",
   "metadata": {},
   "source": [
    "## Line Styles & Markers"
   ]
  },
  {
   "cell_type": "markdown",
   "metadata": {},
   "source": [
    "```\n",
    "================    ===============================\n",
    "character           description\n",
    "================    ===============================\n",
    "``'-'``             solid line style\n",
    "``'--'``            dashed line style\n",
    "``'-.'``            dash-dot line style\n",
    "``':'``             dotted line style\n",
    "``'.'``             point marker\n",
    "``','``             pixel marker\n",
    "``'o'``             circle marker\n",
    "``'v'``             triangle_down marker\n",
    "``'^'``             triangle_up marker\n",
    "``'<'``             triangle_left marker\n",
    "``'>'``             triangle_right marker\n",
    "``'1'``             tri_down marker\n",
    "``'2'``             tri_up marker\n",
    "``'3'``             tri_left marker\n",
    "``'4'``             tri_right marker\n",
    "``'s'``             square marker\n",
    "``'p'``             pentagon marker\n",
    "``'*'``             star marker\n",
    "``'h'``             hexagon1 marker\n",
    "``'H'``             hexagon2 marker\n",
    "``'+'``             plus marker\n",
    "``'x'``             x marker\n",
    "``'D'``             diamond marker\n",
    "``'d'``             thin_diamond marker\n",
    "``'|'``             vline marker\n",
    "``'_'``             hline marker\n",
    "================    ===============================\n",
    "```"
   ]
  },
  {
   "cell_type": "markdown",
   "metadata": {},
   "source": [
    "## Colors"
   ]
  },
  {
   "cell_type": "markdown",
   "metadata": {},
   "source": [
    "```\n",
    "==========  ========\n",
    "character   color\n",
    "==========  ========\n",
    "'b'         blue\n",
    "'g'         green\n",
    "'r'         red\n",
    "'c'         cyan\n",
    "'m'         magenta\n",
    "'y'         yellow\n",
    "'k'         black\n",
    "'w'         white\n",
    "==========  ========\n",
    "\n",
    "In addition, you can specify colors in many weird and\n",
    "wonderful ways, including full names (``'green'``), hex\n",
    "strings (``'#008000'``), RGB or RGBA tuples (``(0,1,0,1)``) or\n",
    "grayscale intensities as a string (``'0.8'``).  Of these, the\n",
    "string specifications can be used in place of a ``fmt`` group,\n",
    "but the tuple forms can be used only as ``kwargs``.\n",
    "```"
   ]
  },
  {
   "cell_type": "markdown",
   "metadata": {},
   "source": [
    "# Title and Grid"
   ]
  },
  {
   "cell_type": "code",
   "execution_count": null,
   "metadata": {
    "collapsed": false
   },
   "outputs": [],
   "source": [
    "fig = plt.figure()\n",
    "axes = fig.add_subplot(111)\n",
    "\n",
    "axes.plot(x_highres, y_highres,color=\"red\", linestyle='dashed',  linewidth=3, marker='o',\n",
    "         markerfacecolor='blue', markersize=5)\n",
    "\n",
    "axes.set_title('bebfjrebfg') ## Notice you can you LaTeX Code\n",
    "                          \n",
    "axes.grid()\n",
    "\n",
    "plt.show()"
   ]
  },
  {
   "cell_type": "markdown",
   "metadata": {},
   "source": [
    "# Axis Labels"
   ]
  },
  {
   "cell_type": "code",
   "execution_count": null,
   "metadata": {
    "collapsed": false
   },
   "outputs": [],
   "source": [
    "fig = plt.figure()\n",
    "axes = fig.add_subplot(111)\n",
    "\n",
    "axes.plot(x_highres, y_highres,color=\"red\", linestyle='dashed',  linewidth=3, marker='o',\n",
    "         markerfacecolor='blue', markersize=5)\n",
    "\n",
    "axes.set_title('$y=x^2$')\n",
    "axes.grid()\n",
    "axes.set_xlabel('x')\n",
    "axes.set_ylabel('y')\n",
    "\n",
    "plt.show()"
   ]
  },
  {
   "cell_type": "markdown",
   "metadata": {},
   "source": [
    "# Controlling the Figure Size"
   ]
  },
  {
   "cell_type": "code",
   "execution_count": null,
   "metadata": {
    "collapsed": false
   },
   "outputs": [],
   "source": [
    "fig = plt.figure(figsize=(5,6))\n",
    "axes = fig.add_subplot(111)\n",
    "\n",
    "axes.plot(x_highres, y_highres,color=\"red\", linestyle='dashed',  linewidth=3, marker='o',\n",
    "         markerfacecolor='blue', markersize=5)\n",
    "\n",
    "axes.set_title('$y=x^2$')\n",
    "axes.grid()\n",
    "axes.set_xlabel('x')\n",
    "axes.set_ylabel('y')\n",
    "\n",
    "plt.show()"
   ]
  },
  {
   "cell_type": "markdown",
   "metadata": {},
   "source": [
    "# Visualizing Numbers as images"
   ]
  },
  {
   "cell_type": "code",
   "execution_count": null,
   "metadata": {
    "collapsed": false
   },
   "outputs": [],
   "source": [
    "noise = np.random.random((128,128))\n",
    "noise"
   ]
  },
  {
   "cell_type": "code",
   "execution_count": null,
   "metadata": {
    "collapsed": false
   },
   "outputs": [],
   "source": [
    "plt.imshow(noise)\n",
    "plt.show()"
   ]
  },
  {
   "cell_type": "markdown",
   "metadata": {},
   "source": [
    "## Color Bar"
   ]
  },
  {
   "cell_type": "code",
   "execution_count": null,
   "metadata": {
    "collapsed": false
   },
   "outputs": [],
   "source": [
    "plt.imshow(noise)\n",
    "plt.colorbar()\n",
    "plt.show()"
   ]
  },
  {
   "cell_type": "markdown",
   "metadata": {},
   "source": [
    "## Color Maps"
   ]
  },
  {
   "cell_type": "code",
   "execution_count": null,
   "metadata": {
    "collapsed": false
   },
   "outputs": [],
   "source": [
    "plt.imshow(noise, cmap=plt.cm.gray)\n",
    "plt.colorbar()\n",
    "plt.show()"
   ]
  },
  {
   "cell_type": "code",
   "execution_count": null,
   "metadata": {
    "collapsed": false
   },
   "outputs": [],
   "source": [
    "plt.imshow(noise, cmap=plt.cm.Paired)\n",
    "plt.colorbar()\n",
    "plt.show()"
   ]
  },
  {
   "cell_type": "code",
   "execution_count": null,
   "metadata": {
    "collapsed": true
   },
   "outputs": [],
   "source": []
  }
 ],
 "metadata": {
  "anaconda-cloud": {},
  "kernelspec": {
   "display_name": "Python [Root]",
   "language": "python",
   "name": "Python [Root]"
  },
  "language_info": {
   "codemirror_mode": {
    "name": "ipython",
    "version": 3
   },
   "file_extension": ".py",
   "mimetype": "text/x-python",
   "name": "python",
   "nbconvert_exporter": "python",
   "pygments_lexer": "ipython3",
   "version": "3.5.2"
  }
 },
 "nbformat": 4,
 "nbformat_minor": 0
}
